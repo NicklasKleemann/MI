{
  "cells": [
    {
      "cell_type": "markdown",
      "metadata": {
        "id": "Rfru-kfqjYXh"
      },
      "source": [
        "# Session 4: Logistic Regression\n",
        "\n",
        "In this exercise, you will implement logistic regression and apply it to two different datasets.\n"
      ]
    },
    {
      "cell_type": "markdown",
      "metadata": {
        "id": "3JUOE8iCjYXi"
      },
      "source": [
        "<a name=\"1\"></a>\n",
        "## 1 - Imports and Extra Code\n",
        "\n",
        "First, let's run the cell below to import all the packages that you will need during this assignment.\n",
        "- [numpy](www.numpy.org) is the fundamental package for scientific computing with Python.\n",
        "- [matplotlib](http://matplotlib.org) is a famous library to plot graphs in Python.\n",
        "-  ``utils.py`` contains helper functions for this assignment. You do not need to modify code in this file."
      ]
    },
    {
      "cell_type": "code",
      "execution_count": 2,
      "metadata": {
        "id": "9mnDS_QSjYXj"
      },
      "outputs": [],
      "source": [
        "import numpy as np\n",
        "import matplotlib.pyplot as plt\n",
        "import copy\n",
        "import math\n",
        "\n",
        "%matplotlib inline"
      ]
    },
    {
      "cell_type": "code",
      "execution_count": 48,
      "metadata": {
        "id": "bThmlpKtkMVG"
      },
      "outputs": [],
      "source": [
        "def load_data_1():\n",
        "    data = np.loadtxt(r\"C:\\Users\\nickl\\Documents\\MI\\ex2data1.txt\", delimiter=',',skiprows=0)\n",
        "    X = data[:,:2]\n",
        "    y = data[:,2]\n",
        "\n",
        "    np.random.seed(1)\n",
        "    X = X + np.random.normal(0, 0.25, size=X.shape)\n",
        "\n",
        "    X = zscore_normalize_features(X)\n",
        "\n",
        "    return X, y\n",
        "\n",
        "def load_data_2():\n",
        "    data = np.loadtxt(r\"C:\\Users\\nickl\\Documents\\MI\\ex2data2.txt\", delimiter=',',skiprows=0)\n",
        "    X = data[:,:2]\n",
        "    y = data[:,2]\n",
        "\n",
        "    X = zscore_normalize_features(X)\n",
        "\n",
        "    np.random.seed(1)\n",
        "    X = X + np.random.normal(0, 0.25, size=X.shape)\n",
        "\n",
        "    return X, y"
      ]
    },
    {
      "cell_type": "code",
      "execution_count": 49,
      "metadata": {
        "id": "7Z5Sy4B4u0HQ"
      },
      "outputs": [],
      "source": [
        "def plot_data(X, y, pos_label=\"Admitted\", neg_label=\"Non Admitted\"):\n",
        "    positive = y == 1\n",
        "    negative = y == 0\n",
        "\n",
        "    # Plot examples\n",
        "    plt.plot(X[positive, 0], X[positive, 1], 'k+', label=pos_label)\n",
        "    plt.plot(X[negative, 0], X[negative, 1], 'yo', label=neg_label)\n",
        "    plt.legend()\n",
        "\n",
        "def sig(z):\n",
        "    return 1/(1+np.exp(-z))\n",
        "\n",
        "def plot_decision_boundary(w, b, X, y, plot_label, pos_label=\"Admitted\", neg_label=\"Non Admitted\"):\n",
        "    # Credit to dibgerge on Github for this plotting code\n",
        "\n",
        "    plot_data(X[:, 0:2], y, pos_label= pos_label,  neg_label = neg_label)\n",
        "\n",
        "    if X.shape[1] <= 2:\n",
        "      plot_x = np.array([min(X[:, 0]), max(X[:, 0])])\n",
        "      plot_y = (-1. / w[1]) * (w[0] * plot_x + b)\n",
        "\n",
        "      plt.plot(plot_x, plot_y, c=\"b\", label = \"Decision Boundary\")\n",
        "    else:\n",
        "        u = np.linspace(-2.5, 2.5, 50)\n",
        "        v = np.linspace(-2.5, 2.5, 50)\n",
        "\n",
        "        z = np.zeros((len(u), len(v)))\n",
        "\n",
        "        # Evaluate z = theta*x over the grid\n",
        "        for i in range(len(u)):\n",
        "            for j in range(len(v)):\n",
        "                z[i,j] = sig(np.dot(map_feature(u[i], v[j]), w) + b)\n",
        "\n",
        "        # important to transpose z before calling contour\n",
        "        z = z.T\n",
        "\n",
        "        # Plot z = 0\n",
        "        plt.contour(u,v,z, levels = [0.5], colors=\"g\")\n",
        "\n",
        "\n",
        "    plt.title(plot_label+ \":  Accuracy: %.2f\"%accuracy(X, y, w, b))\n",
        "    plt.legend()\n",
        "    plt.show()\n",
        "\n",
        "def plot_decision_boundaries(w, b, X, y, pos_label=\"Admitted\", neg_label=\"Non Admitted\"):\n",
        "    # Credit to dibgerge on Github for this plotting code\n",
        "\n",
        "    X_split_train, y_split_train, X_split_val, y_split_val = split_data(X, y)\n",
        "\n",
        "    plot_decision_boundary(w, b, X_split_train, y_split_train, \"Training Data\", pos_label, neg_label)\n",
        "\n",
        "    plot_decision_boundary(w, b, X_split_val, y_split_val, \"Test Data\", pos_label, neg_label)\n",
        "\n",
        "\n",
        "\n",
        "def zscore_normalize_features(X):\n",
        "    \"\"\"\n",
        "    computes  X, zcore normalized by column\n",
        "\n",
        "    Args:\n",
        "      X (ndarray (m,n))     : input data, m examples, n features\n",
        "\n",
        "    Returns:\n",
        "      X_norm (ndarray (m,n)): input normalized by column\n",
        "      mu (ndarray (n,))     : mean of each feature\n",
        "      sigma (ndarray (n,))  : standard deviation of each feature\n",
        "    \"\"\"\n",
        "    # find the mean of each column/feature\n",
        "    X_mean     = np.mean(X, axis=0)                 # mu will have shape (n,)\n",
        "    # find the standard deviation of each column/feature\n",
        "    X_sigma  = np.std(X, axis=0)                  # sigma will have shape (n,)\n",
        "    # element-wise, subtract mu for that column from each example, divide by std for that column\n",
        "    X_norm = (X - X_mean) / X_sigma\n",
        "\n",
        "    return X_norm\n",
        "\n",
        "def split_data(X, y):\n",
        "    #Permutate the data\n",
        "    np.random.seed(123)\n",
        "    perm = np.random.permutation(X.shape[0])\n",
        "    X = X[perm,:]\n",
        "    y = y[perm]\n",
        "\n",
        "    #Split the data\n",
        "    size_train = int(0.66*X.shape[0])\n",
        "    X_split_train, y_split_train = X[0:size_train,:], y[0:size_train]\n",
        "    X_split_val, y_split_val = X[size_train:,:], y[size_train:]\n",
        "\n",
        "    return X_split_train, y_split_train, X_split_val, y_split_val\n",
        "\n",
        "def accuracy(X, y, w, b):\n",
        "    p = (sigmoid(np.dot(X, w) + b) >=0.5)\n",
        "    return np.mean(p == y) * 100\n",
        "\n"
      ]
    },
    {
      "cell_type": "code",
      "execution_count": 50,
      "metadata": {
        "id": "PDFH9Rh2t9qo"
      },
      "outputs": [],
      "source": [
        "import urllib\n",
        "from urllib.request import urlopen\n",
        "\n",
        "\n",
        "def feedback(excercise_id, finished=True, understood=True, comment=\"No comments\"):\n",
        "  base_url = \"https://docs.google.com/forms/d/e/\"\n",
        "  base_url += \"1FAIpQLSeg4_ljWJ7vlvrqobuo8WmpKe3vuXZKwcuJosVj67XClvJEHA\"\n",
        "  base_url += \"/formResponse?\"\n",
        "  base_url += \"entry.2058183318=\" + excercise_id\n",
        "  base_url += \"&entry.217828241=\" + (\"Yes\" if finished else \"No\")\n",
        "  base_url += \"&entry.676697552=\" + (\"Yes\" if understood else \"No\")\n",
        "  base_url += \"&entry.379660172=\" + comment\n",
        "\n",
        "  base_url = base_url.replace(\" \", \"%20\")\n",
        "  urlopen(base_url)\n",
        "  print(\"FEEDBACK SUBMITTED. THANKS!!! :D\")\n"
      ]
    },
    {
      "cell_type": "markdown",
      "metadata": {
        "id": "CSHoB20vjYXj"
      },
      "source": [
        "<a name=\"2\"></a>\n",
        "## 2 - Logistic Regression\n",
        "\n",
        "In this part of the exercise, you will build a logistic regression model to predict whether a student gets admitted into a university.\n",
        "\n",
        "<a name=\"2.1\"></a>\n",
        "### 2.1 Problem Statement\n",
        "\n",
        "Suppose that you are the administrator of a university department and you want to determine each applicant’s chance of admission based on their results on two exams.\n",
        "* You have historical data from previous applicants that you can use as a training set for logistic regression.\n",
        "* For each training example, you have the applicant’s scores on two exams and the admissions decision.\n",
        "* Your task is to build a classification model that estimates an applicant’s probability of admission based on the scores from those two exams.\n",
        "\n",
        "<a name=\"2.2\"></a>\n",
        "### 2.2 Loading and visualizing the data\n",
        "\n",
        "You will start by loading the dataset for this task.\n",
        "- The `load_dataset()` function shown below loads the data into variables `X_train` and `y_train`\n",
        "  - `X_train` contains exam scores on two exams for a student\n",
        "  - `y_train` is the admission decision\n",
        "      - `y_train = 1` if the student was admitted\n",
        "      - `y_train = 0` if the student was not admitted\n",
        "  - Both `X_train` and `y_train` are numpy arrays.\n"
      ]
    },
    {
      "cell_type": "code",
      "execution_count": 51,
      "metadata": {
        "id": "3DmuaXCdjYXk"
      },
      "outputs": [],
      "source": [
        "# load dataset\n",
        "X_train, y_train = load_data_1()"
      ]
    },
    {
      "cell_type": "markdown",
      "metadata": {
        "id": "ok5UMcJWjYXk"
      },
      "source": [
        "#### View the variables\n",
        "Let's get more familiar with your dataset.  \n",
        "- A good place to start is to just print out each variable and see what it contains.\n",
        "\n",
        "The code below prints the first five values of `X_train` and the type of the variable."
      ]
    },
    {
      "cell_type": "code",
      "execution_count": 52,
      "metadata": {
        "colab": {
          "base_uri": "https://localhost:8080/"
        },
        "id": "PFLDLBKvjYXk",
        "outputId": "dc467500-bd99-4c80-bff0-86b26b48aac6"
      },
      "outputs": [
        {
          "name": "stdout",
          "output_type": "stream",
          "text": [
            "First five elements in X_train are:\n",
            " [[-1.58737656  0.63087591]\n",
            " [-1.83968448 -1.22308491]\n",
            " [-1.5338615   0.33068311]\n",
            " [-0.26302411  1.07732598]\n",
            " [ 0.69411038  0.49067327]]\n",
            "Type of X_train: <class 'numpy.ndarray'>\n"
          ]
        }
      ],
      "source": [
        "print(\"First five elements in X_train are:\\n\", X_train[:5])\n",
        "print(\"Type of X_train:\",type(X_train))"
      ]
    },
    {
      "cell_type": "markdown",
      "metadata": {
        "id": "ttOF9bHQjYXl"
      },
      "source": [
        "Now print the first five values of `y_train`"
      ]
    },
    {
      "cell_type": "code",
      "execution_count": 53,
      "metadata": {
        "colab": {
          "base_uri": "https://localhost:8080/"
        },
        "id": "KNGjQbLIjYXl",
        "outputId": "d677019e-9bba-4c74-cab2-eededd6fee56"
      },
      "outputs": [
        {
          "name": "stdout",
          "output_type": "stream",
          "text": [
            "First five elements in y_train are:\n",
            " [0. 0. 0. 1. 1.]\n",
            "Type of y_train: <class 'numpy.ndarray'>\n"
          ]
        }
      ],
      "source": [
        "print(\"First five elements in y_train are:\\n\", y_train[:5])\n",
        "print(\"Type of y_train:\",type(y_train))"
      ]
    },
    {
      "cell_type": "markdown",
      "metadata": {
        "id": "o8p0XM1KjYXm"
      },
      "source": [
        "#### Check the dimensions of your variables\n",
        "\n",
        "Another useful way to get familiar with your data is to view its dimensions. Let's print the shape of `X_train` and `y_train` and see how many training examples we have in our dataset."
      ]
    },
    {
      "cell_type": "code",
      "execution_count": 55,
      "metadata": {
        "colab": {
          "base_uri": "https://localhost:8080/"
        },
        "id": "JLD3As4rjYXm",
        "outputId": "b451575f-db7f-4247-bb76-3ac1b52d89f6"
      },
      "outputs": [
        {
          "name": "stdout",
          "output_type": "stream",
          "text": [
            "The shape of X_train is: (100, 2)\n",
            "The shape of y_train is: (100,)\n",
            "We have m = 100 training examples\n"
          ]
        }
      ],
      "source": [
        "print ('The shape of X_train is: ' + str(X_train.shape))\n",
        "print ('The shape of y_train is: ' + str(y_train.shape))\n",
        "print ('We have m = %d training examples' % (len(y_train)))"
      ]
    },
    {
      "cell_type": "markdown",
      "metadata": {
        "id": "_vN-K-ASjYXm"
      },
      "source": [
        "#### Visualize your data\n",
        "\n",
        "Before starting to implement any learning algorithm, it is always good to visualize the data if possible.\n",
        "- The code below displays the data on a 2D plot (as shown below), where the axes are the two exam scores, and the positive and negative examples are shown with different markers.\n",
        "\n"
      ]
    },
    {
      "cell_type": "code",
      "execution_count": 56,
      "metadata": {
        "colab": {
          "base_uri": "https://localhost:8080/",
          "height": 449
        },
        "id": "s6MabgY7jYXm",
        "outputId": "50435c57-4c11-46af-b23c-a181273decca"
      },
      "outputs": [
        {
          "data": {
            "image/png": "[encoded data removed]",
            "text/plain": [
              "<Figure size 640x480 with 1 Axes>"
            ]
          },
          "metadata": {},
          "output_type": "display_data"
        }
      ],
      "source": [
        "# Plot examples\n",
        "positive = (y_train == 1)\n",
        "negative = (y_train == 0)\n",
        "\n",
        "# Plot examples\n",
        "plt.plot(X_train[positive, 0], X_train[positive, 1], 'k+', label=\"Admitted\")\n",
        "plt.plot(X_train[negative, 0], X_train[negative, 1], 'yo', label=\"Not admitted\")\n",
        "\n",
        "\n",
        "# Set the y-axis label\n",
        "plt.ylabel('Exam 2 score')\n",
        "# Set the x-axis label\n",
        "plt.xlabel('Exam 1 score')\n",
        "plt.legend(loc=\"upper right\")\n",
        "plt.show()"
      ]
    },
    {
      "cell_type": "markdown",
      "metadata": {
        "id": "chioNRWOjYXn"
      },
      "source": [
        "Your goal is to build a logistic regression model to fit this data.\n",
        "- With this model, you can then predict if a new student will be admitted based on their scores on the two exams."
      ]
    },
    {
      "cell_type": "markdown",
      "metadata": {
        "id": "q1FqrwyTjYXn"
      },
      "source": [
        "<a name=\"2.3\"></a>\n",
        "### 2.3  Logistic Regression Model\n",
        "\n",
        "Recall that for logistic regression, the model is represented as\n",
        "\n",
        "$$ f_{\\mathbf{w},b}(x) = g(\\mathbf{w}\\cdot \\mathbf{x} + b)$$\n",
        "where function $g$ is the sigmoid function. The sigmoid function is defined as:\n",
        "\n",
        "$$g(z) = \\frac{1}{1+e^{-z}}$$\n",
        "\n",
        "Let's implement the sigmoid function first, so it can be used by the rest of this assignment.\n",
        "\n"
      ]
    },
    {
      "cell_type": "markdown",
      "metadata": {
        "id": "FkI5ZpADtrMW"
      },
      "source": [
        "<a name='ex-01'></a>\n",
        "### Exercise 1A: Implement Sigmoid Function\n",
        "\n",
        "\n",
        "Please complete  the `sigmoid` function to calculate\n",
        "\n",
        "$$g(z) = \\frac{1}{1+e^{-z}}$$\n",
        "\n",
        "Note that\n",
        "- `z` is not always a single number, but can also be an array of numbers.\n",
        "- If the input is an array of numbers, we'd like to apply the sigmoid function to each value in the input array.\n",
        "\n",
        "If you get stuck, you can check out the hints presented after the cell below to help you with the implementation."
      ]
    },
    {
      "cell_type": "code",
      "execution_count": 57,
      "metadata": {
        "id": "Woujlm2djYXn"
      },
      "outputs": [],
      "source": [
        "# UNQ_C1\n",
        "# GRADED FUNCTION: sigmoid\n",
        "\n",
        "def sigmoid(z):\n",
        "    \"\"\"\n",
        "    Compute the sigmoid of z\n",
        "\n",
        "    Args:\n",
        "        z (ndarray): A scalar, numpy array of any size.\n",
        "\n",
        "    Returns:\n",
        "        g (ndarray): sigmoid(z), with the same shape as z\n",
        "\n",
        "    \"\"\"\n",
        "\n",
        "    ### START CODE HERE ###\n",
        "    g = 1/(1 + np.exp(-z))\n",
        "    ### END SOLUTION ###\n",
        "\n",
        "    return g"
      ]
    },
    {
      "cell_type": "markdown",
      "metadata": {
        "id": "U-1k8OhYjYXn"
      },
      "source": [
        "When you are finished, try testing a few values by calling `sigmoid(x)` in the cell below.\n",
        "- For large positive values of x, the sigmoid should be close to 1, while for large negative values, the sigmoid should be close to 0.\n",
        "- Evaluating `sigmoid(0)` should give you exactly 0.5.\n"
      ]
    },
    {
      "cell_type": "code",
      "execution_count": 58,
      "metadata": {
        "colab": {
          "base_uri": "https://localhost:8080/"
        },
        "id": "H5O_AS_IjYXo",
        "outputId": "419baa73-7bcf-467b-a4ca-e6a1c08b3339"
      },
      "outputs": [
        {
          "name": "stdout",
          "output_type": "stream",
          "text": [
            "sigmoid(0) = 0.5\n"
          ]
        }
      ],
      "source": [
        "print (\"sigmoid(0) = \" + str(sigmoid(0)))"
      ]
    },
    {
      "cell_type": "markdown",
      "metadata": {
        "id": "KU61td6qjYXo"
      },
      "source": [
        "**Expected Output**:\n",
        "<table>\n",
        "  <tr>\n",
        "    <td> <b>sigmoid(0)<b></td>\n",
        "    <td> 0.5 </td>\n",
        "  </tr>\n",
        "</table>\n",
        "    \n",
        "- As mentioned before, your code should also work with vectors and matrices. For a matrix, your function should perform the sigmoid function on every element."
      ]
    },
    {
      "cell_type": "code",
      "execution_count": 59,
      "metadata": {
        "colab": {
          "base_uri": "https://localhost:8080/",
          "height": 448
        },
        "id": "fzDHa9fsv72z",
        "outputId": "62d6779e-b545-41e2-a999-63ae11bd3d61"
      },
      "outputs": [
        {
          "data": {
            "text/plain": [
              "<matplotlib.legend.Legend at 0x25967ccb320>"
            ]
          },
          "execution_count": 59,
          "metadata": {},
          "output_type": "execute_result"
        },
        {
          "data": {
            "image/png": "[encoded data removed]",
            "text/plain": [
              "<Figure size 640x480 with 1 Axes>"
            ]
          },
          "metadata": {},
          "output_type": "display_data"
        }
      ],
      "source": [
        "#Let us plot the sigmoid function\n",
        "\n",
        "x = np.arange(-10,10,0.1)\n",
        "plt.plot(x,sigmoid(x), label=\"Sigmoid funtion\")\n",
        "plt.legend()\n"
      ]
    },
    {
      "cell_type": "markdown",
      "metadata": {
        "id": "7nDlVlQaRaph"
      },
      "source": [
        "### Exercise 1A: Plot Decision Boundary\n"
      ]
    },
    {
      "cell_type": "markdown",
      "metadata": {
        "id": "5kGogRsiPWhi"
      },
      "source": [
        "\n",
        "The function `compute_model_output`  computes the output of a linear regression model given a vector of $x$ values and a two parameters $w$ and $b$.\n",
        "\n",
        "> **Note**: The argument description `(ndarray (m,))` describes a Numpy n-dimensional array of shape (m,). `(scalar)` describes an argument without dimensions, just a magnitude.  \n",
        "> **Note**: `np.zero(n)` will return a one-dimensional numpy array with $n$ entries   \n"
      ]
    },
    {
      "cell_type": "code",
      "execution_count": 60,
      "metadata": {
        "id": "2Ul8Ls6QPWhi"
      },
      "outputs": [],
      "source": [
        "def compute_model_output(x, w, b):\n",
        "    \"\"\"\n",
        "    Computes the prediction of a linear model\n",
        "    Args:\n",
        "      x (ndarray (m,)): Data, m examples\n",
        "      w,b (scalar)    : model parameters\n",
        "    Returns\n",
        "      y (ndarray (m,)): target values\n",
        "    \"\"\"\n",
        "\n",
        "    f_wb=sigmoid(np.dot(x,w) + b)\n",
        "    return f_wb"
      ]
    },
    {
      "cell_type": "markdown",
      "metadata": {
        "id": "ulUsHIhgPWhi"
      },
      "source": [
        "Now let's call the `compute_model_output` function and plot the output.."
      ]
    },
    {
      "cell_type": "code",
      "execution_count": 61,
      "metadata": {
        "colab": {
          "base_uri": "https://localhost:8080/"
        },
        "id": "eaRvQf3LPWhi",
        "outputId": "eb9b6852-a607-4259-a146-bcce36e4bd60"
      },
      "outputs": [
        {
          "name": "stdout",
          "output_type": "stream",
          "text": [
            "w: [1, 10]\n",
            "b: 0\n"
          ]
        }
      ],
      "source": [
        "x = [[1, 0]]\n",
        "w = [1, 10]\n",
        "b = 0\n",
        "print(f\"w: {w}\")\n",
        "print(f\"b: {b}\")"
      ]
    },
    {
      "cell_type": "code",
      "execution_count": 62,
      "metadata": {
        "colab": {
          "base_uri": "https://localhost:8080/"
        },
        "id": "wxf-1wFOxe4V",
        "outputId": "c055db80-b96a-4a9a-f6d0-4763ca898237"
      },
      "outputs": [
        {
          "name": "stdout",
          "output_type": "stream",
          "text": [
            "f(x,w,b) = [0.73105858]\n"
          ]
        }
      ],
      "source": [
        "print (\"f(x,w,b) = \" + str(compute_model_output(x,w,b)))"
      ]
    },
    {
      "cell_type": "markdown",
      "metadata": {
        "id": "-gemJmJfxe4l"
      },
      "source": [
        "**Expected Output**:\n",
        "<table>\n",
        "  <tr>\n",
        "    <td> <b>compute_model_output(x,w,b)<b></td>\n",
        "    <td> 0.73105858 </td>\n",
        "  </tr>\n",
        "</table>\n",
        "    "
      ]
    },
    {
      "cell_type": "markdown",
      "metadata": {
        "id": "CzF8MUu_w0p-"
      },
      "source": [
        "Plot the decision boundary for a given model"
      ]
    },
    {
      "cell_type": "code",
      "execution_count": 63,
      "metadata": {
        "colab": {
          "base_uri": "https://localhost:8080/",
          "height": 887
        },
        "id": "Xs7MlrorwxJN",
        "outputId": "7e5708a8-0280-4fca-a3f5-e30e98bcf823"
      },
      "outputs": [
        {
          "data": {
            "image/png": "[encoded data removed]",
            "text/plain": [
              "<Figure size 640x480 with 1 Axes>"
            ]
          },
          "metadata": {},
          "output_type": "display_data"
        },
        {
          "data": {
            "image/png": "[encoded data removed]",
            "text/plain": [
              "<Figure size 640x480 with 1 Axes>"
            ]
          },
          "metadata": {},
          "output_type": "display_data"
        }
      ],
      "source": [
        "plot_decision_boundaries(w, b, X_train, y_train)"
      ]
    },
    {
      "cell_type": "markdown",
      "metadata": {
        "id": "MoMKFFrn6_Ev"
      },
      "source": [
        "\n",
        "---\n",
        "SUBMIT FEEDBACK\n",
        "\n",
        "\n",
        "---\n",
        "\n",
        "\n",
        "\n",
        "---\n",
        "\n",
        "\n"
      ]
    },
    {
      "cell_type": "markdown",
      "metadata": {
        "id": "cwEgmu8YuE30"
      },
      "source": [
        "<a name=\"2.4\"></a>\n",
        "### 2.4 Cost function for logistic regression\n",
        "\n",
        "In this section, you will implement the cost function for logistic regression.\n"
      ]
    },
    {
      "cell_type": "markdown",
      "metadata": {
        "id": "0NRWI0AyjYXo"
      },
      "source": [
        "\n",
        "\n",
        "Please complete the `compute_cost` function using the equations below.\n",
        "\n",
        "Recall that for logistic regression, the cost function is of the form\n",
        "\n",
        "\n",
        "$$ J(\\mathbf{w},b) = \\frac{1}{m}\\sum_{i=0}^{m-1} \\left[ loss(f_{\\mathbf{w},b}(\\mathbf{x}^{(i)}), y^{(i)}) \\right] \\tag{1}$$\n",
        "\n",
        "where\n",
        "* m is the number of training examples in the dataset\n",
        "\n",
        "\n",
        "* $loss(f_{\\mathbf{w},b}(\\mathbf{x}^{(i)}), y^{(i)})$ is the cost for a single data point, which is -\n",
        "\n",
        "    $$loss(f_{\\mathbf{w},b}(\\mathbf{x}^{(i)}), y^{(i)}) = (-y^{(i)} \\log\\left(f_{\\mathbf{w},b}\\left( \\mathbf{x}^{(i)} \\right) \\right) - \\left( 1 - y^{(i)}\\right) \\log \\left( 1 - f_{\\mathbf{w},b}\\left( \\mathbf{x}^{(i)} \\right) \\right) \\tag{2}$$\n",
        "    \n",
        "    \n",
        "*  $f_{\\mathbf{w},b}(\\mathbf{x}^{(i)})$ is the model's prediction, while $y^{(i)}$, which is the actual label\n",
        "\n",
        "*  $f_{\\mathbf{w},b}(\\mathbf{x}^{(i)}) = g(\\mathbf{w} \\cdot \\mathbf{x^{(i)}} + b)$ where function $g$ is the sigmoid function.\n",
        "\n",
        "\n",
        "Note:\n",
        "* As you are doing this, remember that the variables `X_train` and `y_train` are not scalar values but matrices of shape ($m, n$) and ($𝑚$,1) respectively, where  $𝑛$ is the number of features and $𝑚$ is the number of training examples.\n",
        "* You can use the sigmoid function that you implemented above for this part.\n",
        "\n",
        "If you get stuck, you can check out the hints presented after the cell below to help you with the implementation."
      ]
    },
    {
      "cell_type": "code",
      "execution_count": 64,
      "metadata": {
        "id": "6iczhTdHjYXp"
      },
      "outputs": [],
      "source": [
        "def compute_cost(X, y, w, b, lambda_= 1):\n",
        "  \"\"\"\n",
        "  Computes the cost over all examples\n",
        "  Args:\n",
        "    X : (ndarray Shape (m,n)) data, m examples by n features\n",
        "    y : (array_like Shape (m,)) target value\n",
        "    w : (array_like Shape (n,)) Values of parameters of the model\n",
        "    b : scalar Values of bias parameter of the model\n",
        "    lambda_: unused placeholder\n",
        "  Returns:\n",
        "    total_cost: (scalar)         cost\n",
        "  \"\"\"\n",
        "\n",
        "  m, n = X.shape\n",
        "\n",
        "  ### START CODE HERE ###\n",
        "  # Compute the linear combination of inputs and weights\n",
        "  logit = np.clip(np.dot(X, w) + b, -10, 10)\n",
        "  \n",
        "  # Apply the sigmoid function to get the predicted probabilities\n",
        "  f_w = sigmoid(logit)\n",
        "  \n",
        "  # Compute the cost using the logistic regression cost function\n",
        "  total_cost = -np.mean(y*np.log(f_w) + (1-y)*np.log(1-f_w))\n",
        "  ### END CODE HERE ###\n",
        "\n",
        "  return total_cost"
      ]
    },
    {
      "cell_type": "markdown",
      "metadata": {
        "id": "1nQVSqxHjYXq"
      },
      "source": [
        "Run the cells below to check your implementation of the `compute_cost` function with two different initializations of the parameters $w$"
      ]
    },
    {
      "cell_type": "code",
      "execution_count": 65,
      "metadata": {
        "colab": {
          "base_uri": "https://localhost:8080/"
        },
        "id": "anHn6MjVjYXq",
        "outputId": "91944089-79b5-46c2-dd6b-cf781b21bec9"
      },
      "outputs": [
        {
          "name": "stdout",
          "output_type": "stream",
          "text": [
            "Cost at initial w (zeros): 0.693\n"
          ]
        }
      ],
      "source": [
        "m, n = X_train.shape\n",
        "\n",
        "# Compute and display cost with w initialized to zeroes\n",
        "initial_w = np.zeros(n)\n",
        "initial_b = 0.\n",
        "cost = compute_cost(X_train, y_train, initial_w, initial_b)\n",
        "print('Cost at initial w (zeros): {:.3f}'.format(cost))"
      ]
    },
    {
      "cell_type": "markdown",
      "metadata": {
        "id": "r43-71VdjYXq"
      },
      "source": [
        "<a name=\"2.5\"></a>\n",
        "### 2.5 Gradient for logistic regression\n",
        "\n",
        "In this section, you will implement the gradient for logistic regression.\n",
        "\n",
        "Recall that the gradient descent algorithm is:\n",
        "\n",
        "$$\\begin{align*}& \\text{repeat until convergence:} \\; \\lbrace \\newline \\; & b := b -  \\alpha \\frac{\\partial J(\\mathbf{w},b)}{\\partial b} \\newline       \\; & w_j := w_j -  \\alpha \\frac{\\partial J(\\mathbf{w},b)}{\\partial w_j} \\tag{1}  \\; & \\text{for j := 0..n-1}\\newline & \\rbrace\\end{align*}$$\n",
        "\n",
        "where, parameters $b$, $w_j$ are all updated simultaniously"
      ]
    },
    {
      "cell_type": "markdown",
      "metadata": {
        "id": "utDlww0NjYXr"
      },
      "source": [
        "\n",
        "\n",
        "The `compute_gradient` function computes $\\frac{\\partial J(\\mathbf{w},b)}{\\partial w}$, $\\frac{\\partial J(\\mathbf{w},b)}{\\partial b}$ from equations (2) and (3) below.\n",
        "\n",
        "$$\n",
        "\\frac{\\partial J(\\mathbf{w},b)}{\\partial b}  = \\frac{1}{m} \\sum\\limits_{i = 0}^{m-1} (f_{\\mathbf{w},b}(\\mathbf{x}^{(i)}) - \\mathbf{y}^{(i)}) \\tag{2}\n",
        "$$\n",
        "$$\n",
        "\\frac{\\partial J(\\mathbf{w},b)}{\\partial w_j}  = \\frac{1}{m} \\sum\\limits_{i = 0}^{m-1} (f_{\\mathbf{w},b}(\\mathbf{x}^{(i)}) - \\mathbf{y}^{(i)})x_{j}^{(i)} \\tag{3}\n",
        "$$\n",
        "* m is the number of training examples in the dataset\n",
        "\n",
        "    \n",
        "*  $f_{\\mathbf{w},b}(x^{(i)})$ is the model's prediction, while $y^{(i)}$ is the actual label\n",
        "\n",
        "\n",
        "- **Note**: While this gradient looks identical to the linear regression gradient, the formula is actually different because linear and logistic regression have different definitions of $f_{\\mathbf{w},b}(x)$.\n",
        "\n",
        "As before, you can use the sigmoid function that you implemented above and if you get stuck, you can check out the hints presented after the cell below to help you with the implementation."
      ]
    },
    {
      "cell_type": "code",
      "execution_count": 66,
      "metadata": {
        "id": "gq4ISVlpjYXr"
      },
      "outputs": [],
      "source": [
        "# UNQ_C3\n",
        "# GRADED FUNCTION: compute_gradient\n",
        "def compute_gradient(X, y, w, b, lambda_=None):\n",
        "    \"\"\"\n",
        "    Computes the gradient for logistic regression\n",
        "\n",
        "    Args:\n",
        "      X : (ndarray Shape (m,n)) variable such as house size\n",
        "      y : (array_like Shape (m,1)) actual value\n",
        "      w : (array_like Shape (n,1)) values of parameters of the model\n",
        "      b : (scalar)                 value of parameter of the model\n",
        "      lambda_: unused placeholder.\n",
        "    Returns\n",
        "      dj_dw: (array_like Shape (n,1)) The gradient of the cost w.r.t. the parameters w.\n",
        "      dj_db: (scalar)                The gradient of the cost w.r.t. the parameter b.\n",
        "    \"\"\"\n",
        "    m, n = X.shape\n",
        "    dj_dw = np.zeros(w.shape)\n",
        "    dj_db = 0.\n",
        "\n",
        "    ### START CODE HERE ###\n",
        "\n",
        "    f_w = sigmoid(np.dot(X, w) + b)\n",
        "    err = (f_w - y)\n",
        "    dj_dw = (1/m)*np.dot(X.T, err)\n",
        "    dj_db = (1/m)*np.sum(err)\n",
        "\n",
        "    ### END CODE HERE ###\n",
        "\n",
        "\n",
        "    return dj_db, dj_dw"
      ]
    },
    {
      "cell_type": "markdown",
      "metadata": {
        "id": "IykZFCqAjYXr"
      },
      "source": [
        "Run the cells below to check your implementation of the `compute_gradient` function with two different initializations of the parameters $w$"
      ]
    },
    {
      "cell_type": "code",
      "execution_count": 67,
      "metadata": {
        "colab": {
          "base_uri": "https://localhost:8080/"
        },
        "id": "ugktX_KLjYXr",
        "outputId": "88ecfda6-5ed6-464a-e433-2e0002ee1ee4"
      },
      "outputs": [
        {
          "name": "stdout",
          "output_type": "stream",
          "text": [
            "dj_db at initial w (zeros):-0.1\n",
            "dj_dw at initial w (zeros):[-0.28191789900200925, -0.25110716602325084]\n"
          ]
        }
      ],
      "source": [
        "# Compute and display gradient with w initialized to zeroes\n",
        "initial_w = np.zeros(n)\n",
        "initial_b = 0.\n",
        "\n",
        "dj_db, dj_dw = compute_gradient(X_train, y_train, initial_w, initial_b)\n",
        "print(f'dj_db at initial w (zeros):{dj_db}' )\n",
        "print(f'dj_dw at initial w (zeros):{dj_dw.tolist()}' )"
      ]
    },
    {
      "cell_type": "markdown",
      "metadata": {
        "id": "XkWnsJhMjYXs"
      },
      "source": [
        "<a name=\"2.6\"></a>\n",
        "### 2.6 Learning parameters using gradient descent\n",
        "\n",
        "Similar to the previous assignment, you will now find the optimal parameters of a logistic regression model by using gradient descent.\n",
        "- You don't need to implement anything for this part. Simply run the cells below.\n",
        "\n",
        "- A good way to verify that gradient descent is working correctly is to look\n",
        "at the value of $J(\\mathbf{w},b)$ and check that it is decreasing with each step.\n",
        "\n",
        "- Assuming you have implemented the gradient and computed the cost correctly, your value of $J(\\mathbf{w},b)$ should never increase, and should converge to a steady value by the end of the algorithm."
      ]
    },
    {
      "cell_type": "code",
      "execution_count": 68,
      "metadata": {
        "id": "sCjAtSkI44IV"
      },
      "outputs": [],
      "source": [
        "def gradient_descent_val(X, y, w_in, b_in, cost_function, gradient_function, alpha, num_iters, lambda_):\n",
        "    #Permutate the data\n",
        "    np.random.seed(123)\n",
        "    perm = np.random.permutation(X.shape[0])\n",
        "    X = X[perm,:]\n",
        "    y = y[perm]\n",
        "\n",
        "    #Split the data\n",
        "    size_train = int(0.66*X.shape[0])\n",
        "    X_split_train, y_split_train = X[0:size_train,:], y[0:size_train]\n",
        "    X_split_val, y_split_val = X[size_train:,:], y[size_train:]\n",
        "\n",
        "    # An array to store cost J and w's at each iteration primarily for graphing later\n",
        "    J_history_train = []\n",
        "    J_history_train_acc = []\n",
        "    J_history_test = []\n",
        "    w = copy.deepcopy(w_in)  #avoid modifying global w within function\n",
        "    b = b_in\n",
        "\n",
        "    for i in range(num_iters):\n",
        "\n",
        "        # Calculate the gradient and update the parameters\n",
        "        dj_db,dj_dw = gradient_function(X_split_train, y_split_train, w, b, lambda_)   ##None\n",
        "\n",
        "        # Update Parameters using w, b, alpha and gradient\n",
        "        w = w - alpha * dj_dw               ##None\n",
        "        b = b - alpha * dj_db               ##None\n",
        "\n",
        "        # Save cost J at each iteration\n",
        "        if i<100000:      # prevent resource exhaustion\n",
        "            J_history_train.append( cost_function(X_split_train, y_split_train, w, b))\n",
        "            J_history_train_acc.append( accuracy(X_split_train, y_split_train, w, b))\n",
        "            J_history_test.append( accuracy(X_split_val, y_split_val, w, b))\n",
        "\n",
        "        # Print cost every at intervals 10 times or as many iterations if < 10\n",
        "        if i% math.ceil(num_iters / 50) == 0:\n",
        "            print(f\"Iteration {i:4d}: Training Cost {J_history_train[-1]:8.2f}, Train Accuracy {J_history_train_acc[-1]:8.2f}, Test Accuracy {J_history_test[-1]:8.2f}   \")\n",
        "\n",
        "\n",
        "    it = np.arange(0,num_iters,1)\n",
        "    plt.plot(it, J_history_train, label=\"Training Cost\")\n",
        "    plt.plot(it, J_history_train_acc, label=\"Training Accuracy\")\n",
        "    plt.plot(it, J_history_test, label = \"Test Accuracy\")\n",
        "    plt.legend()\n",
        "    plt.show()\n",
        "\n",
        "    return w, b, J_history_train, J_history_test\n"
      ]
    },
    {
      "cell_type": "markdown",
      "metadata": {
        "id": "3ZGjo7O1jYXs"
      },
      "source": [
        "Now let's run the gradient descent algorithm above to learn the parameters for our dataset.\n",
        "\n",
        "**Note**\n",
        "\n",
        "The code block below takes a couple of minutes to run, especially with a non-vectorized version. You can reduce the `iterations` to test your implementation and iterate faster. If you have time, try running 100,000 iterations for better results."
      ]
    },
    {
      "cell_type": "markdown",
      "metadata": {
        "id": "4PJ_0YA7jYXt"
      },
      "source": [
        "<a name='ex-02'></a>\n",
        "### Exercise 2: Learn the Logistic Regression Model\n",
        "\n",
        "We will now use the final parameters from gradient descent to plot the linear fit."
      ]
    },
    {
      "cell_type": "code",
      "execution_count": 69,
      "metadata": {
        "colab": {
          "base_uri": "https://localhost:8080/",
          "height": 1000
        },
        "id": "flKslwHwjYXt",
        "outputId": "d188305d-37ca-4387-d96e-e199aa82163a"
      },
      "outputs": [
        {
          "name": "stdout",
          "output_type": "stream",
          "text": [
            "Iteration    0: Training Cost     4.91, Train Accuracy    37.88, Test Accuracy    44.12   \n",
            "Iteration   20: Training Cost     3.81, Train Accuracy    37.88, Test Accuracy    44.12   \n",
            "Iteration   40: Training Cost     2.73, Train Accuracy    37.88, Test Accuracy    44.12   \n",
            "Iteration   60: Training Cost     1.78, Train Accuracy    37.88, Test Accuracy    47.06   \n",
            "Iteration   80: Training Cost     1.17, Train Accuracy    54.55, Test Accuracy    52.94   \n",
            "Iteration  100: Training Cost     0.84, Train Accuracy    66.67, Test Accuracy    61.76   \n",
            "Iteration  120: Training Cost     0.64, Train Accuracy    74.24, Test Accuracy    67.65   \n",
            "Iteration  140: Training Cost     0.51, Train Accuracy    74.24, Test Accuracy    73.53   \n",
            "Iteration  160: Training Cost     0.42, Train Accuracy    77.27, Test Accuracy    79.41   \n",
            "Iteration  180: Training Cost     0.36, Train Accuracy    80.30, Test Accuracy    79.41   \n",
            "Iteration  200: Training Cost     0.32, Train Accuracy    80.30, Test Accuracy    79.41   \n",
            "Iteration  220: Training Cost     0.28, Train Accuracy    84.85, Test Accuracy    79.41   \n",
            "Iteration  240: Training Cost     0.26, Train Accuracy    87.88, Test Accuracy    88.24   \n",
            "Iteration  260: Training Cost     0.24, Train Accuracy    87.88, Test Accuracy    88.24   \n",
            "Iteration  280: Training Cost     0.23, Train Accuracy    87.88, Test Accuracy    85.29   \n",
            "Iteration  300: Training Cost     0.21, Train Accuracy    89.39, Test Accuracy    88.24   \n",
            "Iteration  320: Training Cost     0.21, Train Accuracy    89.39, Test Accuracy    88.24   \n",
            "Iteration  340: Training Cost     0.20, Train Accuracy    90.91, Test Accuracy    85.29   \n",
            "Iteration  360: Training Cost     0.19, Train Accuracy    90.91, Test Accuracy    85.29   \n",
            "Iteration  380: Training Cost     0.19, Train Accuracy    92.42, Test Accuracy    85.29   \n",
            "Iteration  400: Training Cost     0.19, Train Accuracy    92.42, Test Accuracy    85.29   \n",
            "Iteration  420: Training Cost     0.18, Train Accuracy    92.42, Test Accuracy    85.29   \n",
            "Iteration  440: Training Cost     0.18, Train Accuracy    92.42, Test Accuracy    85.29   \n",
            "Iteration  460: Training Cost     0.18, Train Accuracy    92.42, Test Accuracy    85.29   \n",
            "Iteration  480: Training Cost     0.18, Train Accuracy    92.42, Test Accuracy    82.35   \n",
            "Iteration  500: Training Cost     0.17, Train Accuracy    93.94, Test Accuracy    82.35   \n",
            "Iteration  520: Training Cost     0.17, Train Accuracy    93.94, Test Accuracy    82.35   \n",
            "Iteration  540: Training Cost     0.17, Train Accuracy    93.94, Test Accuracy    82.35   \n",
            "Iteration  560: Training Cost     0.17, Train Accuracy    93.94, Test Accuracy    82.35   \n",
            "Iteration  580: Training Cost     0.17, Train Accuracy    93.94, Test Accuracy    82.35   \n",
            "Iteration  600: Training Cost     0.17, Train Accuracy    93.94, Test Accuracy    82.35   \n",
            "Iteration  620: Training Cost     0.17, Train Accuracy    93.94, Test Accuracy    82.35   \n",
            "Iteration  640: Training Cost     0.17, Train Accuracy    93.94, Test Accuracy    82.35   \n",
            "Iteration  660: Training Cost     0.17, Train Accuracy    93.94, Test Accuracy    82.35   \n",
            "Iteration  680: Training Cost     0.16, Train Accuracy    93.94, Test Accuracy    82.35   \n",
            "Iteration  700: Training Cost     0.16, Train Accuracy    93.94, Test Accuracy    82.35   \n",
            "Iteration  720: Training Cost     0.16, Train Accuracy    93.94, Test Accuracy    82.35   \n",
            "Iteration  740: Training Cost     0.16, Train Accuracy    93.94, Test Accuracy    82.35   \n",
            "Iteration  760: Training Cost     0.16, Train Accuracy    93.94, Test Accuracy    82.35   \n",
            "Iteration  780: Training Cost     0.16, Train Accuracy    93.94, Test Accuracy    82.35   \n",
            "Iteration  800: Training Cost     0.16, Train Accuracy    93.94, Test Accuracy    82.35   \n",
            "Iteration  820: Training Cost     0.16, Train Accuracy    95.45, Test Accuracy    82.35   \n",
            "Iteration  840: Training Cost     0.16, Train Accuracy    95.45, Test Accuracy    82.35   \n",
            "Iteration  860: Training Cost     0.16, Train Accuracy    95.45, Test Accuracy    82.35   \n",
            "Iteration  880: Training Cost     0.16, Train Accuracy    95.45, Test Accuracy    82.35   \n",
            "Iteration  900: Training Cost     0.16, Train Accuracy    95.45, Test Accuracy    82.35   \n",
            "Iteration  920: Training Cost     0.16, Train Accuracy    95.45, Test Accuracy    82.35   \n",
            "Iteration  940: Training Cost     0.16, Train Accuracy    95.45, Test Accuracy    82.35   \n",
            "Iteration  960: Training Cost     0.16, Train Accuracy    95.45, Test Accuracy    82.35   \n",
            "Iteration  980: Training Cost     0.15, Train Accuracy    95.45, Test Accuracy    82.35   \n"
          ]
        },
        {
          "data": {
            "image/png": "[encoded data removed]",
            "text/plain": [
              "<Figure size 640x480 with 1 Axes>"
            ]
          },
          "metadata": {},
          "output_type": "display_data"
        }
      ],
      "source": [
        "np.random.seed(1)\n",
        "intial_w = 0.01 * (np.random.rand(2).reshape(-1,1) - 0.5)\n",
        "initial_b = -8\n",
        "\n",
        "\n",
        "# Some gradient descent settings\n",
        "iterations = 1000\n",
        "alpha = 0.1\n",
        "\n",
        "w,b, J_history_train, J_history_test = gradient_descent_val(X_train ,y_train, initial_w, initial_b,\n",
        "                                   compute_cost, compute_gradient, alpha, iterations, 0)"
      ]
    },
    {
      "cell_type": "code",
      "execution_count": 70,
      "metadata": {
        "colab": {
          "base_uri": "https://localhost:8080/"
        },
        "id": "sziBtczKJIGN",
        "outputId": "4670c332-f6f5-43a0-d716-ee72dad3536e"
      },
      "outputs": [
        {
          "name": "stdout",
          "output_type": "stream",
          "text": [
            "[2.97277279 3.48337225]\n",
            "1.8406671203645515\n"
          ]
        }
      ],
      "source": [
        "print(w)\n",
        "print(b)"
      ]
    },
    {
      "cell_type": "code",
      "execution_count": 71,
      "metadata": {
        "colab": {
          "base_uri": "https://localhost:8080/",
          "height": 887
        },
        "id": "NZ_AXikPjYXt",
        "outputId": "43607b1e-6c7b-4739-fc74-a1a9bae0959a"
      },
      "outputs": [
        {
          "data": {
            "image/png": "[encoded data removed]",
            "text/plain": [
              "<Figure size 640x480 with 1 Axes>"
            ]
          },
          "metadata": {},
          "output_type": "display_data"
        },
        {
          "data": {
            "image/png": "[encoded data removed]",
            "text/plain": [
              "<Figure size 640x480 with 1 Axes>"
            ]
          },
          "metadata": {},
          "output_type": "display_data"
        }
      ],
      "source": [
        "plot_decision_boundaries(w, b, X_train, y_train)"
      ]
    },
    {
      "cell_type": "markdown",
      "metadata": {
        "id": "cj6eS39RzsYZ"
      },
      "source": [
        "\n",
        "---\n",
        "SUBMIT FEEDBACK\n",
        "\n",
        "\n",
        "---\n",
        "\n",
        "\n",
        "\n",
        "---\n",
        "\n",
        "\n"
      ]
    },
    {
      "cell_type": "code",
      "execution_count": null,
      "metadata": {
        "colab": {
          "base_uri": "https://localhost:8080/"
        },
        "id": "MJi8REpWzsYo",
        "outputId": "d75df741-c3ff-4f58-eb23-29ea30e499c2"
      },
      "outputs": [],
      "source": []
    },
    {
      "cell_type": "markdown",
      "metadata": {
        "id": "LqUhmrOxjYXt"
      },
      "source": [
        "<a name=\"2.8\"></a>\n",
        "### 2.8 Evaluating logistic regression\n",
        "\n",
        "We can evaluate the quality of the parameters we have found by seeing how well the learned model predicts on our training set.\n",
        "\n",
        "You will implement the `predict` function below to do this.\n"
      ]
    },
    {
      "cell_type": "markdown",
      "metadata": {
        "id": "1OufjB3KjYXt"
      },
      "source": [
        "\n",
        "The `predict` function produces `1` or `0` predictions given a dataset and a learned parameter vector $w$ and $b$.\n",
        "- First you need to compute the prediction from the model $f(x^{(i)}) = g(w \\cdot x^{(i)})$ for every example\n",
        "    - You've implemented this before in the parts above\n",
        "- We interpret the output of the model ($f(x^{(i)})$) as the probability that $y^{(i)}=1$ given $x^{(i)}$ and parameterized by $w$.\n",
        "- Therefore, to get a final prediction ($y^{(i)}=0$ or $y^{(i)}=1$) from the logistic regression model, you can use the following heuristic -\n",
        "\n",
        "  if $f(x^{(i)}) >= 0.5$, predict $y^{(i)}=1$\n",
        "  \n",
        "  if $f(x^{(i)}) < 0.5$, predict $y^{(i)}=0$\n",
        "    \n",
        "If you get stuck, you can check out the hints presented after the cell below to help you with the implementation."
      ]
    },
    {
      "cell_type": "code",
      "execution_count": 72,
      "metadata": {
        "id": "e5K6nC2djYXt"
      },
      "outputs": [],
      "source": [
        "# UNQ_C4\n",
        "# GRADED FUNCTION: predict\n",
        "\n",
        "def predict(X, w, b):\n",
        "    \"\"\"\n",
        "    Predict whether the label is 0 or 1 using learned logistic\n",
        "    regression parameters w\n",
        "\n",
        "    Args:\n",
        "    X : (ndarray Shape (m, n))\n",
        "    w : (array_like Shape (n,))      Parameters of the model\n",
        "    b : (scalar, float)              Parameter of the model\n",
        "\n",
        "    Returns:\n",
        "    p: (ndarray (m,1))\n",
        "        The predictions for X using a threshold at 0.5\n",
        "    \"\"\"\n",
        "    ### START CODE HERE ###\n",
        "\n",
        "    f_w = sigmoid(np.dot(X, w) + b)\n",
        "    p = (f_w >=0.5)\n",
        "\n",
        "    ### END CODE HERE ###\n",
        "    return p"
      ]
    },
    {
      "cell_type": "markdown",
      "metadata": {
        "id": "_2p6r9DAjYXu"
      },
      "source": [
        "Once you have completed the function `predict`, let's run the code below to report the training accuracy of your classifier by computing the percentage of examples it got correct."
      ]
    },
    {
      "cell_type": "markdown",
      "metadata": {
        "id": "UkCaynnrjYXu"
      },
      "source": [
        "Now let's use this to compute the accuracy on the training set"
      ]
    },
    {
      "cell_type": "code",
      "execution_count": 73,
      "metadata": {
        "colab": {
          "base_uri": "https://localhost:8080/"
        },
        "id": "YtfXh5mljYXu",
        "outputId": "e30cfb31-593d-4650-99a2-ee7327733fee"
      },
      "outputs": [
        {
          "name": "stdout",
          "output_type": "stream",
          "text": [
            "Train Accuracy: 91.000000\n"
          ]
        }
      ],
      "source": [
        "#Compute accuracy on our training set\n",
        "p = predict(X_train, w,b)\n",
        "print('Train Accuracy: %f'%(np.mean(p == y_train) * 100))"
      ]
    },
    {
      "cell_type": "markdown",
      "metadata": {
        "id": "4q2LTvIxjYXu"
      },
      "source": [
        "<a name=\"3\"></a>\n",
        "## 3 - Regularized Logistic Regression\n",
        "\n",
        "In this part of the exercise, you will implement regularized logistic regression"
      ]
    },
    {
      "cell_type": "markdown",
      "metadata": {
        "id": "vJz4NoJ2jYXw"
      },
      "source": [
        "While the feature mapping allows us to build a more expressive classifier, it is also more susceptible to overfitting. In the next parts of the exercise, you will implement regularized logistic regression to fit the data and also see for yourself how regularization can help combat the overfitting problem.\n",
        "\n",
        "### 3.1 Cost function for regularized logistic regression\n",
        "\n",
        "In this part, you will implement the cost function for regularized logistic regression.\n",
        "\n",
        "Recall that for regularized logistic regression, the cost function is of the form\n",
        "$$J(\\mathbf{w},b) = \\frac{1}{m}  \\sum_{i=0}^{m-1} \\left[ -y^{(i)} \\log\\left(f_{\\mathbf{w},b}\\left( \\mathbf{x}^{(i)} \\right) \\right) - \\left( 1 - y^{(i)}\\right) \\log \\left( 1 - f_{\\mathbf{w},b}\\left( \\mathbf{x}^{(i)} \\right) \\right) \\right] + \\frac{\\lambda}{2m}  \\sum_{j=0}^{n-1} w_j^2$$\n",
        "\n",
        "Compare this to the cost function without regularization (which you implemented above), which is of the form\n",
        "\n",
        "$$ J(\\mathbf{w}.b) = \\frac{1}{m}\\sum_{i=0}^{m-1} \\left[ (-y^{(i)} \\log\\left(f_{\\mathbf{w},b}\\left( \\mathbf{x}^{(i)} \\right) \\right) - \\left( 1 - y^{(i)}\\right) \\log \\left( 1 - f_{\\mathbf{w},b}\\left( \\mathbf{x}^{(i)} \\right) \\right)\\right]$$\n",
        "\n",
        "The difference is the regularization term, which is $$\\frac{\\lambda}{2m}  \\sum_{j=0}^{n-1} w_j^2$$\n",
        "Note that the $b$ parameter is not regularized."
      ]
    },
    {
      "cell_type": "markdown",
      "metadata": {
        "id": "Fe8J5qM2jYXw"
      },
      "source": [
        "<a name='ex-05'></a>\n",
        "### Exercise 3\n",
        "\n",
        "Please complete the `compute_cost_reg` function below to calculate the following term for each element in $w$\n",
        "$$\\frac{\\lambda}{2m}  \\sum_{j=0}^{n-1} w_j^2$$\n",
        "\n",
        "The starter code then adds this to the cost without regularization (which you computed above in `compute_cost`) to calculate the cost with regulatization.\n",
        "\n",
        "If you get stuck, you can check out the hints presented after the cell below to help you with the implementation."
      ]
    },
    {
      "cell_type": "code",
      "execution_count": 74,
      "metadata": {
        "id": "Fqs1JuKpjYXw"
      },
      "outputs": [],
      "source": [
        "# UNQ_C5\n",
        "def compute_cost_reg(X, y, w, b, lambda_ = 1):\n",
        "    \"\"\"\n",
        "    Computes the cost over all examples\n",
        "    Args:\n",
        "      X : (array_like Shape (m,n)) data, m examples by n features\n",
        "      y : (array_like Shape (m,)) target value\n",
        "      w : (array_like Shape (n,)) Values of parameters of the model\n",
        "      b : (array_like Shape (n,)) Values of bias parameter of the model\n",
        "      lambda_ : (scalar, float)    Controls amount of regularization\n",
        "    Returns:\n",
        "      total_cost: (scalar)         cost\n",
        "    \"\"\"\n",
        "\n",
        "    m, n = X.shape\n",
        "\n",
        "    # Calls the compute_cost function that you implemented above\n",
        "    cost_without_reg = compute_cost(X, y, w, b)\n",
        "\n",
        "    ### START CODE HERE ###\n",
        "\n",
        "    # You need to calculate this value\n",
        "    reg_cost =  (lambda_/(2*m)) * np.sum(np.square(w))\n",
        "\n",
        "    ### END CODE HERE ###\n",
        "\n",
        "    # Add the regularization cost to get the total cost\n",
        "    total_cost = cost_without_reg +  reg_cost\n",
        "\n",
        "    return total_cost"
      ]
    },
    {
      "cell_type": "markdown",
      "metadata": {
        "id": "0Xjjxmq_jYXx"
      },
      "source": [
        "Run the cell below to check your implementation of the `compute_cost_reg` function."
      ]
    },
    {
      "cell_type": "code",
      "execution_count": 75,
      "metadata": {
        "colab": {
          "base_uri": "https://localhost:8080/"
        },
        "id": "9Wp6aYmfjYXx",
        "outputId": "88c45ab7-7106-49f9-bace-5b22e8050d4e"
      },
      "outputs": [
        {
          "name": "stdout",
          "output_type": "stream",
          "text": [
            "Regularized cost : 0.5204570358883369\n"
          ]
        }
      ],
      "source": [
        "np.random.seed(10)\n",
        "initial_w = np.random.rand(X_train.shape[1])\n",
        "initial_b = 0.5\n",
        "lambda_ = 0.5\n",
        "cost = compute_cost_reg(X_train, y_train, initial_w, initial_b, lambda_)\n",
        "\n",
        "print(\"Regularized cost :\", cost)\n"
      ]
    },
    {
      "cell_type": "markdown",
      "metadata": {
        "id": "MJy0aFFKjYXx"
      },
      "source": [
        "**Expected Output**:\n",
        "<table>\n",
        "  <tr>\n",
        "    <td> <b>Regularized cost : <b></td>\n",
        "    <td> 0.5189723414816212 </td>\n",
        "  </tr>\n",
        "</table>"
      ]
    },
    {
      "cell_type": "markdown",
      "metadata": {
        "id": "vR-KmSHI34RE"
      },
      "source": [
        "\n",
        "---\n",
        "SUBMIT FEEDBACK\n",
        "\n",
        "\n",
        "---\n",
        "\n",
        "\n",
        "\n",
        "---\n",
        "\n",
        "\n"
      ]
    },
    {
      "cell_type": "code",
      "execution_count": null,
      "metadata": {
        "colab": {
          "base_uri": "https://localhost:8080/"
        },
        "id": "hUQTYhWI34RF",
        "outputId": "cf090b01-ad46-4ac8-f78e-ff2ff27929e7"
      },
      "outputs": [],
      "source": []
    },
    {
      "cell_type": "markdown",
      "metadata": {
        "id": "PZvEhpQrjYXx"
      },
      "source": [
        "<a name=\"3.5\"></a>\n",
        "### 3.2 Gradient for regularized logistic regression\n",
        "\n",
        "In this section, you will implement the gradient for regularized logistic regression.\n",
        "\n",
        "\n",
        "The gradient of the regularized cost function has two components. The first, $\\frac{\\partial J(\\mathbf{w},b)}{\\partial b}$ is a scalar, the other is a vector with the same shape as the parameters $\\mathbf{w}$, where the $j^\\mathrm{th}$ element is defined as follows:\n",
        "\n",
        "$$\\frac{\\partial J(\\mathbf{w},b)}{\\partial b} = \\frac{1}{m}  \\sum_{i=0}^{m-1} (f_{\\mathbf{w},b}(\\mathbf{x}^{(i)}) - y^{(i)})  $$\n",
        "\n",
        "$$\n",
        "\\frac{\\partial J(\\mathbf{w}, b)}{\\partial w_j} = \\left( \\frac{1}{m} \\sum_{i=0}^{m-1} (f_{\\mathbf{w}, b}(\\mathbf{x}^{(i)}) - y^{(i)}) x_j^{(i)} \\right) + \\frac{\\lambda}{m} w_j \\quad \\text{for } j=0 \\ldots (n-1)\n",
        "$$\n",
        "\n",
        "Compare this to the gradient of the cost function without regularization (which you implemented above), which is of the form\n",
        "$$\n",
        "\\frac{\\partial J(\\mathbf{w},b)}{\\partial b}  = \\frac{1}{m} \\sum\\limits_{i = 0}^{m-1} (f_{\\mathbf{w},b}(\\mathbf{x}^{(i)}) - \\mathbf{y}^{(i)}) \\tag{2}\n",
        "$$\n",
        "$$\n",
        "\\frac{\\partial J(\\mathbf{w},b)}{\\partial w_j}  = \\frac{1}{m} \\sum\\limits_{i = 0}^{m-1} (f_{\\mathbf{w},b}(\\mathbf{x}^{(i)}) - \\mathbf{y}^{(i)})x_{j}^{(i)} \\tag{3}\n",
        "$$\n",
        "\n",
        "\n",
        "As you can see,$\\frac{\\partial J(\\mathbf{w},b)}{\\partial b}$ is the same, the difference is the following term in $\\frac{\\partial J(\\mathbf{w},b)}{\\partial w}$, which is \n",
        "$$\n",
        "\\frac{\\lambda}{m} w_j \\quad \\text{for } j=0 \\ldots (n-1)\n",
        "$$\n",
        "\n",
        "\n",
        "\n"
      ]
    },
    {
      "cell_type": "markdown",
      "metadata": {
        "id": "0czcvqk3jYXx"
      },
      "source": [
        "<a name='ex-04'></a>\n",
        "### Exercise 4\n",
        "\n",
        "Please complete the `compute_gradient_reg` function below to modify the code below to calculate the following term\n",
        "\n",
        "$$\n",
        "\\frac{\\lambda}{m} w_j \\quad \\text{for } j=0\\ldots (n-1)\n",
        "$$\n",
        "\n",
        "The starter code will add this term to the $\\frac{\\partial J(\\mathbf{w},b)}{\\partial w}$ returned from `compute_gradient` above to get the gradient for the regularized cost function.\n",
        "\n",
        "\n",
        "If you get stuck, you can check out the hints presented after the cell below to help you with the implementation."
      ]
    },
    {
      "cell_type": "code",
      "execution_count": 76,
      "metadata": {
        "id": "7xmMkJs_jYXx"
      },
      "outputs": [],
      "source": [
        "# UNQ_C6\n",
        "def compute_gradient_reg(X, y, w, b, lambda_ = 1):\n",
        "    \"\"\"\n",
        "    Computes the gradient for linear regression\n",
        "\n",
        "    Args:\n",
        "      X : (ndarray Shape (m,n))   variable such as house size\n",
        "      y : (ndarray Shape (m,))    actual value\n",
        "      w : (ndarray Shape (n,))    values of parameters of the model\n",
        "      b : (scalar)                value of parameter of the model\n",
        "      lambda_ : (scalar,float)    regularization constant\n",
        "    Returns\n",
        "      dj_db: (scalar)             The gradient of the cost w.r.t. the parameter b.\n",
        "      dj_dw: (ndarray Shape (n,)) The gradient of the cost w.r.t. the parameters w.\n",
        "\n",
        "    \"\"\"\n",
        "    m, n = X.shape\n",
        "\n",
        "    dj_db, dj_dw = compute_gradient(X, y, w, b)\n",
        "\n",
        "    ### START CODE HERE ###\n",
        "\n",
        "    dj_dw += (lambda_/m)  * w\n",
        "\n",
        "    ### END CODE HERE ###\n",
        "\n",
        "    return dj_db, dj_dw"
      ]
    },
    {
      "cell_type": "markdown",
      "metadata": {
        "id": "O961osc6jYXx"
      },
      "source": [
        "Run the cell below to check your implementation of the `compute_gradient_reg` function."
      ]
    },
    {
      "cell_type": "code",
      "execution_count": 77,
      "metadata": {
        "colab": {
          "base_uri": "https://localhost:8080/"
        },
        "id": "wSMATf63jYXx",
        "outputId": "82b0fd07-82ea-4687-ab7c-43cf3ad0c039"
      },
      "outputs": [
        {
          "name": "stdout",
          "output_type": "stream",
          "text": [
            "dj_db: 0.0061062103739540595\n",
            "First few elements of regularized dj_dw:\n",
            " [-0.19441802475337505, -0.0942039631069562]\n"
          ]
        }
      ],
      "source": [
        "np.random.seed(1)\n",
        "initial_w  = np.random.rand(X_train.shape[1])\n",
        "initial_b = 0.5\n",
        "\n",
        "lambda_ = 0.5\n",
        "dj_db, dj_dw = compute_gradient_reg(X_train, y_train, initial_w, initial_b, lambda_)\n",
        "\n",
        "print(f\"dj_db: {dj_db}\", )\n",
        "print(f\"First few elements of regularized dj_dw:\\n {dj_dw[:4].tolist()}\", )\n"
      ]
    },
    {
      "cell_type": "markdown",
      "metadata": {
        "id": "S9-ZMdwTjYXy"
      },
      "source": [
        "**Expected Output**:\n",
        "<table>\n",
        "  <tr>\n",
        "    <td> <b>dj_db:</b>-0.0061062103739540595</td> </tr>\n",
        "  <tr>\n",
        "      <td> <b> First few elements of regularized dj_dw:</b> </td> </tr>\n",
        "   <tr>\n",
        "   <td> [-0.19441802475337505, -0.0942039631069562] </td>\n",
        "  </tr>\n",
        "</table>"
      ]
    },
    {
      "cell_type": "markdown",
      "metadata": {
        "id": "1tDF5uCklc3z"
      },
      "source": [
        "\n",
        "---\n",
        "SUBMIT FEEDBACK\n",
        "\n",
        "\n",
        "---\n",
        "\n",
        "\n",
        "\n",
        "---\n",
        "\n",
        "\n"
      ]
    },
    {
      "cell_type": "code",
      "execution_count": null,
      "metadata": {
        "colab": {
          "base_uri": "https://localhost:8080/"
        },
        "id": "xgtuA5PLlc30",
        "outputId": "54de5e74-4f77-41d7-e379-33c655e1f9e3"
      },
      "outputs": [],
      "source": []
    },
    {
      "cell_type": "markdown",
      "metadata": {
        "id": "GV6gxrpVjYXy"
      },
      "source": [
        "### 3.4 Learning parameters using gradient descent\n",
        "\n",
        "Similar to the previous parts, you will use your gradient descent function implemented above to learn the optimal parameters $w$,$b$.\n",
        "- If you have completed the cost and gradient for regularized logistic regression correctly, you should be able to step through the next cell to learn the parameters $w$.\n",
        "- After training our parameters, we will use it to plot the decision boundary.\n"
      ]
    },
    {
      "cell_type": "markdown",
      "metadata": {
        "id": "dBhcKJQ0lEpr"
      },
      "source": [
        "### Exercise 5\n",
        "\n",
        "- Train the model for each lambda parameter.\n",
        "\n",
        "- See how changing lambda affects the decision boundary.\n",
        "\n",
        "- See how changing lambda affects the classification accuracy.\n",
        "\n",
        "- Go to section 3.3. and change the number of degrees and repeat all the process again."
      ]
    },
    {
      "cell_type": "code",
      "execution_count": 78,
      "metadata": {
        "colab": {
          "base_uri": "https://localhost:8080/"
        },
        "id": "hHhVyFhVWlci",
        "outputId": "af41a94a-56eb-4b25-abb9-18f49ea63107"
      },
      "outputs": [
        {
          "data": {
            "text/plain": [
              "(2, 1)"
            ]
          },
          "execution_count": 78,
          "metadata": {},
          "output_type": "execute_result"
        }
      ],
      "source": [
        "intial_w.shape"
      ]
    },
    {
      "cell_type": "code",
      "execution_count": 79,
      "metadata": {
        "colab": {
          "base_uri": "https://localhost:8080/",
          "height": 1000
        },
        "id": "uXrMMdGmjYXy",
        "outputId": "8363d923-7f2a-475a-e202-b5848eb0705a"
      },
      "outputs": [
        {
          "name": "stdout",
          "output_type": "stream",
          "text": [
            "Iteration    0: Training Cost     4.57, Train Accuracy    37.88, Test Accuracy    44.12   \n",
            "Iteration  200: Training Cost     0.46, Train Accuracy    80.30, Test Accuracy    79.41   \n",
            "Iteration  400: Training Cost     0.30, Train Accuracy    90.91, Test Accuracy    85.29   \n",
            "Iteration  600: Training Cost     0.30, Train Accuracy    93.94, Test Accuracy    82.35   \n",
            "Iteration  800: Training Cost     0.31, Train Accuracy    93.94, Test Accuracy    82.35   \n",
            "Iteration 1000: Training Cost     0.32, Train Accuracy    95.45, Test Accuracy    82.35   \n",
            "Iteration 1200: Training Cost     0.34, Train Accuracy    95.45, Test Accuracy    82.35   \n",
            "Iteration 1400: Training Cost     0.35, Train Accuracy    95.45, Test Accuracy    82.35   \n",
            "Iteration 1600: Training Cost     0.36, Train Accuracy    95.45, Test Accuracy    82.35   \n",
            "Iteration 1800: Training Cost     0.38, Train Accuracy    95.45, Test Accuracy    82.35   \n",
            "Iteration 2000: Training Cost     0.39, Train Accuracy    95.45, Test Accuracy    82.35   \n",
            "Iteration 2200: Training Cost     0.40, Train Accuracy    95.45, Test Accuracy    82.35   \n",
            "Iteration 2400: Training Cost     0.41, Train Accuracy    95.45, Test Accuracy    82.35   \n",
            "Iteration 2600: Training Cost     0.42, Train Accuracy    95.45, Test Accuracy    82.35   \n",
            "Iteration 2800: Training Cost     0.43, Train Accuracy    95.45, Test Accuracy    82.35   \n",
            "Iteration 3000: Training Cost     0.44, Train Accuracy    95.45, Test Accuracy    82.35   \n",
            "Iteration 3200: Training Cost     0.46, Train Accuracy    95.45, Test Accuracy    82.35   \n",
            "Iteration 3400: Training Cost     0.47, Train Accuracy    95.45, Test Accuracy    82.35   \n",
            "Iteration 3600: Training Cost     0.48, Train Accuracy    95.45, Test Accuracy    82.35   \n",
            "Iteration 3800: Training Cost     0.48, Train Accuracy    95.45, Test Accuracy    82.35   \n",
            "Iteration 4000: Training Cost     0.49, Train Accuracy    95.45, Test Accuracy    82.35   \n",
            "Iteration 4200: Training Cost     0.50, Train Accuracy    95.45, Test Accuracy    82.35   \n",
            "Iteration 4400: Training Cost     0.51, Train Accuracy    95.45, Test Accuracy    82.35   \n",
            "Iteration 4600: Training Cost     0.52, Train Accuracy    95.45, Test Accuracy    82.35   \n",
            "Iteration 4800: Training Cost     0.53, Train Accuracy    95.45, Test Accuracy    82.35   \n",
            "Iteration 5000: Training Cost     0.54, Train Accuracy    95.45, Test Accuracy    82.35   \n",
            "Iteration 5200: Training Cost     0.54, Train Accuracy    95.45, Test Accuracy    82.35   \n",
            "Iteration 5400: Training Cost     0.55, Train Accuracy    95.45, Test Accuracy    82.35   \n",
            "Iteration 5600: Training Cost     0.56, Train Accuracy    95.45, Test Accuracy    82.35   \n",
            "Iteration 5800: Training Cost     0.57, Train Accuracy    95.45, Test Accuracy    82.35   \n",
            "Iteration 6000: Training Cost     0.57, Train Accuracy    95.45, Test Accuracy    82.35   \n",
            "Iteration 6200: Training Cost     0.58, Train Accuracy    95.45, Test Accuracy    82.35   \n",
            "Iteration 6400: Training Cost     0.59, Train Accuracy    95.45, Test Accuracy    82.35   \n",
            "Iteration 6600: Training Cost     0.60, Train Accuracy    95.45, Test Accuracy    82.35   \n",
            "Iteration 6800: Training Cost     0.60, Train Accuracy    95.45, Test Accuracy    82.35   \n",
            "Iteration 7000: Training Cost     0.61, Train Accuracy    95.45, Test Accuracy    82.35   \n",
            "Iteration 7200: Training Cost     0.62, Train Accuracy    95.45, Test Accuracy    82.35   \n",
            "Iteration 7400: Training Cost     0.62, Train Accuracy    95.45, Test Accuracy    82.35   \n",
            "Iteration 7600: Training Cost     0.63, Train Accuracy    95.45, Test Accuracy    82.35   \n",
            "Iteration 7800: Training Cost     0.63, Train Accuracy    95.45, Test Accuracy    82.35   \n",
            "Iteration 8000: Training Cost     0.64, Train Accuracy    95.45, Test Accuracy    82.35   \n",
            "Iteration 8200: Training Cost     0.65, Train Accuracy    95.45, Test Accuracy    82.35   \n",
            "Iteration 8400: Training Cost     0.65, Train Accuracy    95.45, Test Accuracy    82.35   \n",
            "Iteration 8600: Training Cost     0.66, Train Accuracy    95.45, Test Accuracy    82.35   \n",
            "Iteration 8800: Training Cost     0.66, Train Accuracy    95.45, Test Accuracy    82.35   \n",
            "Iteration 9000: Training Cost     0.67, Train Accuracy    95.45, Test Accuracy    82.35   \n",
            "Iteration 9200: Training Cost     0.67, Train Accuracy    95.45, Test Accuracy    82.35   \n",
            "Iteration 9400: Training Cost     0.68, Train Accuracy    95.45, Test Accuracy    82.35   \n",
            "Iteration 9600: Training Cost     0.68, Train Accuracy    95.45, Test Accuracy    82.35   \n",
            "Iteration 9800: Training Cost     0.69, Train Accuracy    95.45, Test Accuracy    82.35   \n"
          ]
        },
        {
          "data": {
            "image/png": "[encoded data removed]",
            "text/plain": [
              "<Figure size 640x480 with 1 Axes>"
            ]
          },
          "metadata": {},
          "output_type": "display_data"
        }
      ],
      "source": [
        "np.random.seed(0)\n",
        "initial_w = np.random.rand(X_train.shape[1])\n",
        "initial_b = -8\n",
        "\n",
        "lambda_=0\n",
        "# Some gradient descent settings\n",
        "iterations = 10000\n",
        "alpha = 0.1\n",
        "\n",
        "w,b, J_history,_ = gradient_descent_val(X_train, y_train, initial_w, initial_b,\n",
        "                                    compute_cost_reg, compute_gradient_reg,\n",
        "                                    alpha, iterations, lambda_)"
      ]
    },
    {
      "cell_type": "markdown",
      "metadata": {
        "id": "0oDLDNSkjYXy"
      },
      "source": [
        "### 3.5 Plotting the decision boundary\n",
        "To help you visualize the model learned by this classifier, we will use our `plot_decision_boundary` function which plots the (non-linear) decision boundary that separates the positive and negative examples.\n",
        "\n",
        "- In the function, we plotted the non-linear decision boundary by computing the classifier’s predictions on an evenly spaced grid and then drew a contour plot of where the predictions change from y = 0 to y = 1.\n",
        "\n",
        "- After learning the parameters $w$,$b$, the next step is to plot a decision boundary.\n",
        "\n"
      ]
    },
    {
      "cell_type": "code",
      "execution_count": 80,
      "metadata": {
        "colab": {
          "base_uri": "https://localhost:8080/",
          "height": 887
        },
        "id": "KRVrJUVvjYXy",
        "outputId": "23713fe3-c1fe-4bba-ec04-367c704b858d"
      },
      "outputs": [
        {
          "data": {
            "image/png": "[encoded data removed]",
            "text/plain": [
              "<Figure size 640x480 with 1 Axes>"
            ]
          },
          "metadata": {},
          "output_type": "display_data"
        },
        {
          "data": {
            "image/png": "[encoded data removed]",
            "text/plain": [
              "<Figure size 640x480 with 1 Axes>"
            ]
          },
          "metadata": {},
          "output_type": "display_data"
        }
      ],
      "source": [
        "plot_decision_boundaries(w, b, X_train, y_train, pos_label=\"Accepted\", neg_label=\"Rejected\")"
      ]
    },
    {
      "cell_type": "markdown",
      "metadata": {
        "id": "ebTBylo-muov"
      },
      "source": [
        "\n",
        "---\n",
        "SUBMIT FEEDBACK\n",
        "\n",
        "\n",
        "---\n",
        "\n",
        "\n",
        "\n",
        "---\n",
        "\n",
        "\n"
      ]
    },
    {
      "cell_type": "code",
      "execution_count": null,
      "metadata": {
        "colab": {
          "base_uri": "https://localhost:8080/"
        },
        "id": "oxlQDzmJmuo9",
        "outputId": "6c7ecd94-2219-4f4f-d1a1-d971c2ed1cbe"
      },
      "outputs": [],
      "source": []
    }
  ],
  "metadata": {
    "colab": {
      "provenance": [],
      "toc_visible": true
    },
    "kernelspec": {
      "display_name": ".venv",
      "language": "python",
      "name": "python3"
    },
    "language_info": {
      "codemirror_mode": {
        "name": "ipython",
        "version": 3
      },
      "file_extension": ".py",
      "mimetype": "text/x-python",
      "name": "python",
      "nbconvert_exporter": "python",
      "pygments_lexer": "ipython3",
      "version": "3.12.6"
    }
  },
  "nbformat": 4,
  "nbformat_minor": 0
}
